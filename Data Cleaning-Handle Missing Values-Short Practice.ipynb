{
 "cells": [
  {
   "cell_type": "code",
   "execution_count": 1,
   "id": "a28b9053-0c5e-4fd0-9dfb-b4e867f971a4",
   "metadata": {},
   "outputs": [],
   "source": [
    "# I'm Using \"Cost of Living Index by Country\" DataSet\n",
    "# About DataSet: The Cost of Living Index tells you how expensive it is to live in one place compared to another.\n",
    "# Example:\n",
    "# Imagine we use New York City as the \"standard\" city. We give New York City a score of 100.\n",
    "# Comparing Cities:\n",
    "# If another city, say Tokyo, has a score of 120, it means living in Tokyo is 20% more expensive than living in New York City.\n",
    "# If a city like Cairo has a score of 80, it means living in Cairo is 20% cheaper than living in New York City."
   ]
  },
  {
   "cell_type": "code",
   "execution_count": 2,
   "id": "37a4cd43-9c45-4c88-ae9e-e8179095dc12",
   "metadata": {},
   "outputs": [],
   "source": [
    "# Import Dependencies OR Import Some necessary Libraries\n",
    "import pandas as pd\n",
    "import seaborn as sns\n",
    "import matplotlib.pyplot as plt\n",
    "from sklearn.impute import SimpleImputer"
   ]
  },
  {
   "cell_type": "code",
   "execution_count": 3,
   "id": "c800dc60-e647-4b9b-8fc0-09da117fa252",
   "metadata": {},
   "outputs": [
    {
     "data": {
      "text/html": [
       "<div>\n",
       "<style scoped>\n",
       "    .dataframe tbody tr th:only-of-type {\n",
       "        vertical-align: middle;\n",
       "    }\n",
       "\n",
       "    .dataframe tbody tr th {\n",
       "        vertical-align: top;\n",
       "    }\n",
       "\n",
       "    .dataframe thead th {\n",
       "        text-align: right;\n",
       "    }\n",
       "</style>\n",
       "<table border=\"1\" class=\"dataframe\">\n",
       "  <thead>\n",
       "    <tr style=\"text-align: right;\">\n",
       "      <th></th>\n",
       "      <th>Rank</th>\n",
       "      <th>Country</th>\n",
       "      <th>Cost of Living Index</th>\n",
       "      <th>Rent Index</th>\n",
       "      <th>Cost of Living Plus Rent Index</th>\n",
       "      <th>Groceries Index</th>\n",
       "      <th>Restaurant Price Index</th>\n",
       "      <th>Local Purchasing Power Index</th>\n",
       "    </tr>\n",
       "  </thead>\n",
       "  <tbody>\n",
       "    <tr>\n",
       "      <th>0</th>\n",
       "      <td>1</td>\n",
       "      <td>Switzerland</td>\n",
       "      <td>101.1</td>\n",
       "      <td>46.5</td>\n",
       "      <td>74.9</td>\n",
       "      <td>109.1</td>\n",
       "      <td>97.0</td>\n",
       "      <td>158.7</td>\n",
       "    </tr>\n",
       "    <tr>\n",
       "      <th>1</th>\n",
       "      <td>2</td>\n",
       "      <td>Bahamas</td>\n",
       "      <td>85.0</td>\n",
       "      <td>36.7</td>\n",
       "      <td>61.8</td>\n",
       "      <td>81.6</td>\n",
       "      <td>83.3</td>\n",
       "      <td>54.6</td>\n",
       "    </tr>\n",
       "    <tr>\n",
       "      <th>2</th>\n",
       "      <td>3</td>\n",
       "      <td>Iceland</td>\n",
       "      <td>83.0</td>\n",
       "      <td>39.2</td>\n",
       "      <td>62.0</td>\n",
       "      <td>88.4</td>\n",
       "      <td>86.8</td>\n",
       "      <td>120.3</td>\n",
       "    </tr>\n",
       "    <tr>\n",
       "      <th>3</th>\n",
       "      <td>4</td>\n",
       "      <td>Singapore</td>\n",
       "      <td>76.7</td>\n",
       "      <td>67.2</td>\n",
       "      <td>72.1</td>\n",
       "      <td>74.6</td>\n",
       "      <td>50.4</td>\n",
       "      <td>111.1</td>\n",
       "    </tr>\n",
       "    <tr>\n",
       "      <th>4</th>\n",
       "      <td>5</td>\n",
       "      <td>Barbados</td>\n",
       "      <td>76.6</td>\n",
       "      <td>19.0</td>\n",
       "      <td>48.9</td>\n",
       "      <td>80.8</td>\n",
       "      <td>69.4</td>\n",
       "      <td>43.5</td>\n",
       "    </tr>\n",
       "  </tbody>\n",
       "</table>\n",
       "</div>"
      ],
      "text/plain": [
       "   Rank      Country  Cost of Living Index  Rent Index  \\\n",
       "0     1  Switzerland                 101.1        46.5   \n",
       "1     2      Bahamas                  85.0        36.7   \n",
       "2     3      Iceland                  83.0        39.2   \n",
       "3     4    Singapore                  76.7        67.2   \n",
       "4     5     Barbados                  76.6        19.0   \n",
       "\n",
       "   Cost of Living Plus Rent Index  Groceries Index  Restaurant Price Index  \\\n",
       "0                            74.9            109.1                    97.0   \n",
       "1                            61.8             81.6                    83.3   \n",
       "2                            62.0             88.4                    86.8   \n",
       "3                            72.1             74.6                    50.4   \n",
       "4                            48.9             80.8                    69.4   \n",
       "\n",
       "   Local Purchasing Power Index  \n",
       "0                         158.7  \n",
       "1                          54.6  \n",
       "2                         120.3  \n",
       "3                         111.1  \n",
       "4                          43.5  "
      ]
     },
     "execution_count": 3,
     "metadata": {},
     "output_type": "execute_result"
    }
   ],
   "source": [
    "# Load Dataset OR Read CSV File\n",
    "df = pd.read_csv(r\"DataSets\\Cost_of_Living_Index_by_Country.csv\")\n",
    "df.head()"
   ]
  },
  {
   "cell_type": "code",
   "execution_count": 4,
   "id": "55effd45-b05e-4814-9ba5-37d007320b69",
   "metadata": {},
   "outputs": [
    {
     "name": "stdout",
     "output_type": "stream",
     "text": [
      "<class 'pandas.core.frame.DataFrame'>\n",
      "RangeIndex: 121 entries, 0 to 120\n",
      "Data columns (total 8 columns):\n",
      " #   Column                          Non-Null Count  Dtype  \n",
      "---  ------                          --------------  -----  \n",
      " 0   Rank                            121 non-null    int64  \n",
      " 1   Country                         121 non-null    object \n",
      " 2   Cost of Living Index            121 non-null    float64\n",
      " 3   Rent Index                      121 non-null    float64\n",
      " 4   Cost of Living Plus Rent Index  121 non-null    float64\n",
      " 5   Groceries Index                 121 non-null    float64\n",
      " 6   Restaurant Price Index          121 non-null    float64\n",
      " 7   Local Purchasing Power Index    121 non-null    float64\n",
      "dtypes: float64(6), int64(1), object(1)\n",
      "memory usage: 7.7+ KB\n"
     ]
    }
   ],
   "source": [
    "df.info()"
   ]
  },
  {
   "cell_type": "code",
   "execution_count": 5,
   "id": "071c8616-3be3-42fa-a5de-5ab06e5e3664",
   "metadata": {},
   "outputs": [
    {
     "data": {
      "text/plain": [
       "Rank                              0\n",
       "Country                           0\n",
       "Cost of Living Index              0\n",
       "Rent Index                        0\n",
       "Cost of Living Plus Rent Index    0\n",
       "Groceries Index                   0\n",
       "Restaurant Price Index            0\n",
       "Local Purchasing Power Index      0\n",
       "dtype: int64"
      ]
     },
     "execution_count": 5,
     "metadata": {},
     "output_type": "execute_result"
    }
   ],
   "source": [
    "df.isnull().sum()"
   ]
  },
  {
   "cell_type": "code",
   "execution_count": 6,
   "id": "276fbd2e-0ade-4f75-8fa2-9ed0b8d96789",
   "metadata": {},
   "outputs": [],
   "source": [
    "# In This Data Set, There is no Null/Missing value Present"
   ]
  },
  {
   "cell_type": "code",
   "execution_count": 7,
   "id": "04bf6831-1840-4a4f-b7af-1ff2a0955696",
   "metadata": {},
   "outputs": [
    {
     "data": {
      "text/html": [
       "<div>\n",
       "<style scoped>\n",
       "    .dataframe tbody tr th:only-of-type {\n",
       "        vertical-align: middle;\n",
       "    }\n",
       "\n",
       "    .dataframe tbody tr th {\n",
       "        vertical-align: top;\n",
       "    }\n",
       "\n",
       "    .dataframe thead th {\n",
       "        text-align: right;\n",
       "    }\n",
       "</style>\n",
       "<table border=\"1\" class=\"dataframe\">\n",
       "  <thead>\n",
       "    <tr style=\"text-align: right;\">\n",
       "      <th></th>\n",
       "      <th>Unnamed: 0</th>\n",
       "      <th>names</th>\n",
       "      <th>relese_date</th>\n",
       "      <th>run_time</th>\n",
       "      <th>rating_tag</th>\n",
       "      <th>rating</th>\n",
       "    </tr>\n",
       "  </thead>\n",
       "  <tbody>\n",
       "    <tr>\n",
       "      <th>0</th>\n",
       "      <td>0</td>\n",
       "      <td>1 Breaking Bad</td>\n",
       "      <td>2008–2013</td>\n",
       "      <td>62 eps</td>\n",
       "      <td>TV-MA</td>\n",
       "      <td>9.5</td>\n",
       "    </tr>\n",
       "    <tr>\n",
       "      <th>1</th>\n",
       "      <td>1</td>\n",
       "      <td>2 Planet Earth II</td>\n",
       "      <td>2016</td>\n",
       "      <td>6 eps</td>\n",
       "      <td>TV-G</td>\n",
       "      <td>9.5</td>\n",
       "    </tr>\n",
       "    <tr>\n",
       "      <th>2</th>\n",
       "      <td>2</td>\n",
       "      <td>3 Planet Earth</td>\n",
       "      <td>2006</td>\n",
       "      <td>11 eps</td>\n",
       "      <td>TV-PG</td>\n",
       "      <td>9.4</td>\n",
       "    </tr>\n",
       "    <tr>\n",
       "      <th>3</th>\n",
       "      <td>3</td>\n",
       "      <td>4 Band of Brothers</td>\n",
       "      <td>2001</td>\n",
       "      <td>10 eps</td>\n",
       "      <td>TV-MA</td>\n",
       "      <td>9.4</td>\n",
       "    </tr>\n",
       "    <tr>\n",
       "      <th>4</th>\n",
       "      <td>4</td>\n",
       "      <td>5 Chernobyl</td>\n",
       "      <td>2019</td>\n",
       "      <td>5 eps</td>\n",
       "      <td>TV-MA</td>\n",
       "      <td>9.3</td>\n",
       "    </tr>\n",
       "  </tbody>\n",
       "</table>\n",
       "</div>"
      ],
      "text/plain": [
       "   Unnamed: 0               names relese_date run_time rating_tag  rating\n",
       "0           0      1 Breaking Bad   2008–2013   62 eps      TV-MA     9.5\n",
       "1           1   2 Planet Earth II        2016    6 eps       TV-G     9.5\n",
       "2           2      3 Planet Earth        2006   11 eps      TV-PG     9.4\n",
       "3           3  4 Band of Brothers        2001   10 eps      TV-MA     9.4\n",
       "4           4         5 Chernobyl        2019    5 eps      TV-MA     9.3"
      ]
     },
     "execution_count": 7,
     "metadata": {},
     "output_type": "execute_result"
    }
   ],
   "source": [
    "df = pd.read_csv(r\"DataSets\\Imdb.csv\")\n",
    "df.head()"
   ]
  },
  {
   "cell_type": "code",
   "execution_count": 8,
   "id": "a24847dd-4be2-462d-a24b-21779b27f232",
   "metadata": {},
   "outputs": [
    {
     "data": {
      "text/plain": [
       "Unnamed: 0     0\n",
       "names          0\n",
       "relese_date    0\n",
       "run_time       0\n",
       "rating_tag     0\n",
       "rating         0\n",
       "dtype: int64"
      ]
     },
     "execution_count": 8,
     "metadata": {},
     "output_type": "execute_result"
    }
   ],
   "source": [
    "df.isnull().sum()"
   ]
  },
  {
   "cell_type": "code",
   "execution_count": 9,
   "id": "a12ba6a4-069d-499c-a2ce-e2b97cd85d7e",
   "metadata": {},
   "outputs": [
    {
     "data": {
      "text/html": [
       "<div>\n",
       "<style scoped>\n",
       "    .dataframe tbody tr th:only-of-type {\n",
       "        vertical-align: middle;\n",
       "    }\n",
       "\n",
       "    .dataframe tbody tr th {\n",
       "        vertical-align: top;\n",
       "    }\n",
       "\n",
       "    .dataframe thead th {\n",
       "        text-align: right;\n",
       "    }\n",
       "</style>\n",
       "<table border=\"1\" class=\"dataframe\">\n",
       "  <thead>\n",
       "    <tr style=\"text-align: right;\">\n",
       "      <th></th>\n",
       "      <th>age</th>\n",
       "      <th>ed</th>\n",
       "      <th>employ</th>\n",
       "      <th>address</th>\n",
       "      <th>income</th>\n",
       "      <th>debtinc</th>\n",
       "      <th>creddebt</th>\n",
       "      <th>othdebt</th>\n",
       "      <th>default</th>\n",
       "    </tr>\n",
       "  </thead>\n",
       "  <tbody>\n",
       "    <tr>\n",
       "      <th>0</th>\n",
       "      <td>41.0</td>\n",
       "      <td>3.0</td>\n",
       "      <td>17</td>\n",
       "      <td>12</td>\n",
       "      <td>176.0</td>\n",
       "      <td>9.3</td>\n",
       "      <td>11.359392</td>\n",
       "      <td>5.008608</td>\n",
       "      <td>1</td>\n",
       "    </tr>\n",
       "    <tr>\n",
       "      <th>1</th>\n",
       "      <td>27.0</td>\n",
       "      <td>1.0</td>\n",
       "      <td>10</td>\n",
       "      <td>6</td>\n",
       "      <td>31.0</td>\n",
       "      <td>17.3</td>\n",
       "      <td>1.362202</td>\n",
       "      <td>4.000798</td>\n",
       "      <td>0</td>\n",
       "    </tr>\n",
       "    <tr>\n",
       "      <th>2</th>\n",
       "      <td>40.0</td>\n",
       "      <td>1.0</td>\n",
       "      <td>15</td>\n",
       "      <td>7</td>\n",
       "      <td>NaN</td>\n",
       "      <td>5.5</td>\n",
       "      <td>0.856075</td>\n",
       "      <td>2.168925</td>\n",
       "      <td>0</td>\n",
       "    </tr>\n",
       "    <tr>\n",
       "      <th>3</th>\n",
       "      <td>41.0</td>\n",
       "      <td>NaN</td>\n",
       "      <td>15</td>\n",
       "      <td>14</td>\n",
       "      <td>120.0</td>\n",
       "      <td>2.9</td>\n",
       "      <td>2.658720</td>\n",
       "      <td>0.821280</td>\n",
       "      <td>0</td>\n",
       "    </tr>\n",
       "    <tr>\n",
       "      <th>4</th>\n",
       "      <td>24.0</td>\n",
       "      <td>2.0</td>\n",
       "      <td>2</td>\n",
       "      <td>0</td>\n",
       "      <td>28.0</td>\n",
       "      <td>17.3</td>\n",
       "      <td>1.787436</td>\n",
       "      <td>3.056564</td>\n",
       "      <td>1</td>\n",
       "    </tr>\n",
       "  </tbody>\n",
       "</table>\n",
       "</div>"
      ],
      "text/plain": [
       "    age   ed  employ  address  income  debtinc   creddebt   othdebt default\n",
       "0  41.0  3.0      17       12   176.0      9.3  11.359392  5.008608       1\n",
       "1  27.0  1.0      10        6    31.0     17.3   1.362202  4.000798       0\n",
       "2  40.0  1.0      15        7     NaN      5.5   0.856075  2.168925       0\n",
       "3  41.0  NaN      15       14   120.0      2.9   2.658720  0.821280       0\n",
       "4  24.0  2.0       2        0    28.0     17.3   1.787436  3.056564       1"
      ]
     },
     "execution_count": 9,
     "metadata": {},
     "output_type": "execute_result"
    }
   ],
   "source": [
    "df = pd.read_csv(r\"Datasets\\LoanData_Raw.csv\")\n",
    "df.head()"
   ]
  },
  {
   "cell_type": "code",
   "execution_count": 10,
   "id": "bac5b600-b25c-4fb8-8dc1-de2c83fe9160",
   "metadata": {},
   "outputs": [
    {
     "name": "stdout",
     "output_type": "stream",
     "text": [
      "<class 'pandas.core.frame.DataFrame'>\n",
      "RangeIndex: 700 entries, 0 to 699\n",
      "Data columns (total 9 columns):\n",
      " #   Column    Non-Null Count  Dtype  \n",
      "---  ------    --------------  -----  \n",
      " 0   age       681 non-null    float64\n",
      " 1   ed        680 non-null    float64\n",
      " 2   employ    700 non-null    int64  \n",
      " 3   address   700 non-null    int64  \n",
      " 4   income    663 non-null    float64\n",
      " 5   debtinc   700 non-null    float64\n",
      " 6   creddebt  700 non-null    float64\n",
      " 7   othdebt   700 non-null    float64\n",
      " 8   default   700 non-null    object \n",
      "dtypes: float64(6), int64(2), object(1)\n",
      "memory usage: 49.3+ KB\n"
     ]
    }
   ],
   "source": [
    "df.info()"
   ]
  },
  {
   "cell_type": "code",
   "execution_count": 11,
   "id": "4d2f2a50-b973-4f64-9ae4-24b2fdb25654",
   "metadata": {},
   "outputs": [
    {
     "data": {
      "text/plain": [
       "age         19\n",
       "ed          20\n",
       "employ       0\n",
       "address      0\n",
       "income      37\n",
       "debtinc      0\n",
       "creddebt     0\n",
       "othdebt      0\n",
       "default      0\n",
       "dtype: int64"
      ]
     },
     "execution_count": 11,
     "metadata": {},
     "output_type": "execute_result"
    }
   ],
   "source": [
    "df.isnull().sum()"
   ]
  },
  {
   "cell_type": "code",
   "execution_count": 12,
   "id": "4568b741-c473-4afa-a9bd-54a95b72bd4e",
   "metadata": {},
   "outputs": [
    {
     "name": "stdout",
     "output_type": "stream",
     "text": [
      "34.89867841409691\n"
     ]
    }
   ],
   "source": [
    "ageMean = df[\"age\"].mean()\n",
    "print(ageMean)"
   ]
  },
  {
   "cell_type": "code",
   "execution_count": 13,
   "id": "c5ffde75-47e9-41dc-bf59-381a9a546f99",
   "metadata": {},
   "outputs": [
    {
     "name": "stderr",
     "output_type": "stream",
     "text": [
      "C:\\Users\\mjawa\\AppData\\Local\\Temp\\ipykernel_11396\\3760503580.py:1: FutureWarning: A value is trying to be set on a copy of a DataFrame or Series through chained assignment using an inplace method.\n",
      "The behavior will change in pandas 3.0. This inplace method will never work because the intermediate object on which we are setting values always behaves as a copy.\n",
      "\n",
      "For example, when doing 'df[col].method(value, inplace=True)', try using 'df.method({col: value}, inplace=True)' or df[col] = df[col].method(value) instead, to perform the operation inplace on the original object.\n",
      "\n",
      "\n",
      "  df[\"age\"].fillna(ageMean, inplace = True)\n"
     ]
    }
   ],
   "source": [
    "df[\"age\"].fillna(ageMean, inplace = True)"
   ]
  },
  {
   "cell_type": "code",
   "execution_count": 14,
   "id": "271daa4a-7e01-4298-a02c-7aada12e7bbd",
   "metadata": {},
   "outputs": [
    {
     "name": "stdout",
     "output_type": "stream",
     "text": [
      "<class 'pandas.core.frame.DataFrame'>\n",
      "RangeIndex: 700 entries, 0 to 699\n",
      "Data columns (total 9 columns):\n",
      " #   Column    Non-Null Count  Dtype  \n",
      "---  ------    --------------  -----  \n",
      " 0   age       700 non-null    float64\n",
      " 1   ed        680 non-null    float64\n",
      " 2   employ    700 non-null    int64  \n",
      " 3   address   700 non-null    int64  \n",
      " 4   income    663 non-null    float64\n",
      " 5   debtinc   700 non-null    float64\n",
      " 6   creddebt  700 non-null    float64\n",
      " 7   othdebt   700 non-null    float64\n",
      " 8   default   700 non-null    object \n",
      "dtypes: float64(6), int64(2), object(1)\n",
      "memory usage: 49.3+ KB\n"
     ]
    }
   ],
   "source": [
    "df.info()"
   ]
  },
  {
   "cell_type": "code",
   "execution_count": 15,
   "id": "b50d00ad-467a-4d1c-bf0f-2d01a6416c53",
   "metadata": {},
   "outputs": [],
   "source": [
    "float_cols = df.select_dtypes(\"float64\").columns"
   ]
  },
  {
   "cell_type": "code",
   "execution_count": 16,
   "id": "0637652f-df02-4425-a4e6-b6cbe0a56400",
   "metadata": {},
   "outputs": [
    {
     "data": {
      "text/plain": [
       "Index(['age', 'ed', 'income', 'debtinc', 'creddebt', 'othdebt'], dtype='object')"
      ]
     },
     "execution_count": 16,
     "metadata": {},
     "output_type": "execute_result"
    }
   ],
   "source": [
    "float_cols"
   ]
  },
  {
   "cell_type": "code",
   "execution_count": 17,
   "id": "98fd7972-ddf4-4b8b-b7fa-6bd25aaf1902",
   "metadata": {},
   "outputs": [
    {
     "name": "stderr",
     "output_type": "stream",
     "text": [
      "C:\\Users\\mjawa\\AppData\\Local\\Temp\\ipykernel_11396\\296434304.py:3: FutureWarning: A value is trying to be set on a copy of a DataFrame or Series through chained assignment using an inplace method.\n",
      "The behavior will change in pandas 3.0. This inplace method will never work because the intermediate object on which we are setting values always behaves as a copy.\n",
      "\n",
      "For example, when doing 'df[col].method(value, inplace=True)', try using 'df.method({col: value}, inplace=True)' or df[col] = df[col].method(value) instead, to perform the operation inplace on the original object.\n",
      "\n",
      "\n",
      "  df[col].fillna(temp_mean, inplace = True)\n"
     ]
    }
   ],
   "source": [
    "for col in float_cols:\n",
    "    temp_mean = df[col].mean()\n",
    "    df[col].fillna(temp_mean, inplace = True)"
   ]
  },
  {
   "cell_type": "code",
   "execution_count": 18,
   "id": "37e8a4d1-9745-4590-afa9-88faccb095b9",
   "metadata": {},
   "outputs": [
    {
     "data": {
      "text/plain": [
       "age         0\n",
       "ed          0\n",
       "income      0\n",
       "debtinc     0\n",
       "creddebt    0\n",
       "othdebt     0\n",
       "dtype: int64"
      ]
     },
     "execution_count": 18,
     "metadata": {},
     "output_type": "execute_result"
    }
   ],
   "source": [
    "df[float_cols].isnull().sum()"
   ]
  },
  {
   "cell_type": "code",
   "execution_count": 19,
   "id": "cfc976b2-eb45-42ab-a741-5c4391988796",
   "metadata": {},
   "outputs": [
    {
     "data": {
      "text/plain": [
       "age         0\n",
       "ed          0\n",
       "employ      0\n",
       "address     0\n",
       "income      0\n",
       "debtinc     0\n",
       "creddebt    0\n",
       "othdebt     0\n",
       "default     0\n",
       "dtype: int64"
      ]
     },
     "execution_count": 19,
     "metadata": {},
     "output_type": "execute_result"
    }
   ],
   "source": [
    "df.isnull().sum()"
   ]
  },
  {
   "cell_type": "code",
   "execution_count": 22,
   "id": "ad2f0d7d-067f-4019-9084-505983007d67",
   "metadata": {},
   "outputs": [
    {
     "data": {
      "text/html": [
       "<div>\n",
       "<style scoped>\n",
       "    .dataframe tbody tr th:only-of-type {\n",
       "        vertical-align: middle;\n",
       "    }\n",
       "\n",
       "    .dataframe tbody tr th {\n",
       "        vertical-align: top;\n",
       "    }\n",
       "\n",
       "    .dataframe thead th {\n",
       "        text-align: right;\n",
       "    }\n",
       "</style>\n",
       "<table border=\"1\" class=\"dataframe\">\n",
       "  <thead>\n",
       "    <tr style=\"text-align: right;\">\n",
       "      <th></th>\n",
       "      <th>age</th>\n",
       "      <th>ed</th>\n",
       "      <th>employ</th>\n",
       "      <th>address</th>\n",
       "      <th>income</th>\n",
       "      <th>debtinc</th>\n",
       "      <th>creddebt</th>\n",
       "      <th>othdebt</th>\n",
       "      <th>default</th>\n",
       "    </tr>\n",
       "  </thead>\n",
       "  <tbody>\n",
       "    <tr>\n",
       "      <th>0</th>\n",
       "      <td>41.0</td>\n",
       "      <td>3.0</td>\n",
       "      <td>17</td>\n",
       "      <td>12</td>\n",
       "      <td>176.0</td>\n",
       "      <td>9.3</td>\n",
       "      <td>11.359392</td>\n",
       "      <td>5.008608</td>\n",
       "      <td>1</td>\n",
       "    </tr>\n",
       "    <tr>\n",
       "      <th>1</th>\n",
       "      <td>27.0</td>\n",
       "      <td>1.0</td>\n",
       "      <td>10</td>\n",
       "      <td>6</td>\n",
       "      <td>31.0</td>\n",
       "      <td>17.3</td>\n",
       "      <td>1.362202</td>\n",
       "      <td>4.000798</td>\n",
       "      <td>0</td>\n",
       "    </tr>\n",
       "    <tr>\n",
       "      <th>2</th>\n",
       "      <td>40.0</td>\n",
       "      <td>1.0</td>\n",
       "      <td>15</td>\n",
       "      <td>7</td>\n",
       "      <td>NaN</td>\n",
       "      <td>5.5</td>\n",
       "      <td>0.856075</td>\n",
       "      <td>2.168925</td>\n",
       "      <td>0</td>\n",
       "    </tr>\n",
       "    <tr>\n",
       "      <th>3</th>\n",
       "      <td>41.0</td>\n",
       "      <td>NaN</td>\n",
       "      <td>15</td>\n",
       "      <td>14</td>\n",
       "      <td>120.0</td>\n",
       "      <td>2.9</td>\n",
       "      <td>2.658720</td>\n",
       "      <td>0.821280</td>\n",
       "      <td>0</td>\n",
       "    </tr>\n",
       "    <tr>\n",
       "      <th>4</th>\n",
       "      <td>24.0</td>\n",
       "      <td>2.0</td>\n",
       "      <td>2</td>\n",
       "      <td>0</td>\n",
       "      <td>28.0</td>\n",
       "      <td>17.3</td>\n",
       "      <td>1.787436</td>\n",
       "      <td>3.056564</td>\n",
       "      <td>1</td>\n",
       "    </tr>\n",
       "  </tbody>\n",
       "</table>\n",
       "</div>"
      ],
      "text/plain": [
       "    age   ed  employ  address  income  debtinc   creddebt   othdebt default\n",
       "0  41.0  3.0      17       12   176.0      9.3  11.359392  5.008608       1\n",
       "1  27.0  1.0      10        6    31.0     17.3   1.362202  4.000798       0\n",
       "2  40.0  1.0      15        7     NaN      5.5   0.856075  2.168925       0\n",
       "3  41.0  NaN      15       14   120.0      2.9   2.658720  0.821280       0\n",
       "4  24.0  2.0       2        0    28.0     17.3   1.787436  3.056564       1"
      ]
     },
     "execution_count": 22,
     "metadata": {},
     "output_type": "execute_result"
    }
   ],
   "source": [
    "df = pd.read_csv(r\"DataSets\\LoanData_Raw.csv\")\n",
    "df.head()"
   ]
  },
  {
   "cell_type": "code",
   "execution_count": 23,
   "id": "6e194411-a9da-485a-b7cf-2ac57013e530",
   "metadata": {},
   "outputs": [],
   "source": [
    "si = SimpleImputer(strategy = \"mean\")"
   ]
  },
  {
   "cell_type": "code",
   "execution_count": 24,
   "id": "67815ead-95d0-4beb-a1c2-bd05b1ae5715",
   "metadata": {},
   "outputs": [
    {
     "name": "stdout",
     "output_type": "stream",
     "text": [
      "<class 'pandas.core.frame.DataFrame'>\n",
      "RangeIndex: 700 entries, 0 to 699\n",
      "Data columns (total 9 columns):\n",
      " #   Column    Non-Null Count  Dtype  \n",
      "---  ------    --------------  -----  \n",
      " 0   age       681 non-null    float64\n",
      " 1   ed        680 non-null    float64\n",
      " 2   employ    700 non-null    int64  \n",
      " 3   address   700 non-null    int64  \n",
      " 4   income    663 non-null    float64\n",
      " 5   debtinc   700 non-null    float64\n",
      " 6   creddebt  700 non-null    float64\n",
      " 7   othdebt   700 non-null    float64\n",
      " 8   default   700 non-null    object \n",
      "dtypes: float64(6), int64(2), object(1)\n",
      "memory usage: 49.3+ KB\n"
     ]
    }
   ],
   "source": [
    "df.info()"
   ]
  },
  {
   "cell_type": "code",
   "execution_count": 25,
   "id": "f6f73acd-952e-4c80-a8da-e10a3e70075d",
   "metadata": {},
   "outputs": [
    {
     "data": {
      "text/plain": [
       "age         19\n",
       "ed          20\n",
       "employ       0\n",
       "address      0\n",
       "income      37\n",
       "debtinc      0\n",
       "creddebt     0\n",
       "othdebt      0\n",
       "default      0\n",
       "dtype: int64"
      ]
     },
     "execution_count": 25,
     "metadata": {},
     "output_type": "execute_result"
    }
   ],
   "source": [
    "df.isnull().sum()"
   ]
  },
  {
   "cell_type": "code",
   "execution_count": 28,
   "id": "59fdf381-38f5-46dc-9d7e-4aa8613808d6",
   "metadata": {},
   "outputs": [],
   "source": [
    "float_cols = df.select_dtypes(\"float64\").columns"
   ]
  },
  {
   "cell_type": "code",
   "execution_count": 29,
   "id": "20426bba-6800-441c-8044-1a7c3239ab9a",
   "metadata": {},
   "outputs": [],
   "source": [
    "array = si.fit_transform(df[float_cols])"
   ]
  },
  {
   "cell_type": "code",
   "execution_count": 31,
   "id": "d8a04e68-66d9-486a-ae8b-076d0ceb28d8",
   "metadata": {},
   "outputs": [],
   "source": [
    "imputed_cols = pd.DataFrame(array, columns=float_cols)"
   ]
  },
  {
   "cell_type": "code",
   "execution_count": 32,
   "id": "b1f1fbca-9308-469b-8f1f-44e8fff3950c",
   "metadata": {},
   "outputs": [],
   "source": [
    "df[float_cols] = imputed_cols"
   ]
  },
  {
   "cell_type": "code",
   "execution_count": 33,
   "id": "ca64c2cc-a8fe-4a3b-8cc2-64b22e27e859",
   "metadata": {},
   "outputs": [
    {
     "data": {
      "text/plain": [
       "age         0\n",
       "ed          0\n",
       "employ      0\n",
       "address     0\n",
       "income      0\n",
       "debtinc     0\n",
       "creddebt    0\n",
       "othdebt     0\n",
       "default     0\n",
       "dtype: int64"
      ]
     },
     "execution_count": 33,
     "metadata": {},
     "output_type": "execute_result"
    }
   ],
   "source": [
    "df.isnull().sum()"
   ]
  },
  {
   "cell_type": "code",
   "execution_count": null,
   "id": "7bc87055-bed4-48d1-bae2-9eec284d8171",
   "metadata": {},
   "outputs": [],
   "source": []
  }
 ],
 "metadata": {
  "kernelspec": {
   "display_name": "Python 3 (ipykernel)",
   "language": "python",
   "name": "python3"
  },
  "language_info": {
   "codemirror_mode": {
    "name": "ipython",
    "version": 3
   },
   "file_extension": ".py",
   "mimetype": "text/x-python",
   "name": "python",
   "nbconvert_exporter": "python",
   "pygments_lexer": "ipython3",
   "version": "3.12.4"
  }
 },
 "nbformat": 4,
 "nbformat_minor": 5
}
